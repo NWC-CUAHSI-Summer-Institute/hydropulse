{
 "cells": [
  {
   "cell_type": "markdown",
   "id": "1a925b5d-a4f7-47b0-be23-f6c25a000f4c",
   "metadata": {},
   "source": [
    "### **This script filters the NFIP claim dataset based on the year and if caused by a 100-year flood for the CONUS scale**"
   ]
  },
  {
   "cell_type": "code",
   "execution_count": null,
   "id": "7f510826-8c7d-417d-88d7-b7f0b4528fd3",
   "metadata": {},
   "outputs": [],
   "source": [
    "# Install geopandas if needed\n",
    "!pip install geopandas\n",
    "\n",
    "# Imports\n",
    "import geopandas as gpd\n",
    "import pandas as pd\n",
    "from shapely.geometry import Point\n",
    "import matplotlib.pyplot as plt\n",
    "\n",
    "# --- Step 1: Load Claim CSV Data ---\n",
    "file_path = 'Data/claims.csv'\n",
    "claim_df = pd.read_csv(file_path, delimiter=';')\n",
    "\n",
    "# --- Step 2: Convert 'dateOfLoss' to datetime ---\n",
    "claim_df['dateOfLoss'] = pd.to_datetime(claim_df['dateOfLoss'])  # Adjust column name if needed\n",
    "\n",
    "# --- Step 3: Filter date range and pluvial events (causedBy100yr == 0) ---\n",
    "start_date = pd.to_datetime('01/01/2005')\n",
    "end_date = pd.to_datetime('12/31/2024')\n",
    "\n",
    "# Handle both numeric and string 'causedBy100yr'\n",
    "if claim_df['causedBy100yr'].dtype == object:\n",
    "    mask_pluvial = claim_df['causedBy100yr'].str.contains('0', case=False, na=False)\n",
    "else:\n",
    "    mask_pluvial = claim_df['causedBy100yr'] == 0\n",
    "\n",
    "filtered_df = claim_df[\n",
    "    (claim_df['dateOfLoss'] >= start_date) &\n",
    "    (claim_df['dateOfLoss'] <= end_date) &\n",
    "    mask_pluvial\n",
    "]\n",
    "\n",
    "# --- Step 4: Read CONUS state boundaries ---\n",
    "states = gpd.read_file('Data/tl_2024_us_state/tl_2024_us_state.shp')\n",
    "exclude = ['AK', 'HI', 'PR', 'GU', 'VI', 'MP', 'AS']\n",
    "conus_states = states[~states['STUSPS'].isin(exclude)]\n",
    "\n",
    "# --- Step 5: Convert filtered claims to GeoDataFrame ---\n",
    "geometry = [Point(xy) for xy in zip(filtered_df['longitude'], filtered_df['latitude'])]\n",
    "claim_gdf = gpd.GeoDataFrame(filtered_df, geometry=geometry, crs='EPSG:4326')\n",
    "\n",
    "# --- Step 6: Plot ---\n",
    "fig, ax = plt.subplots(figsize=(12, 8))\n",
    "conus_states.boundary.plot(ax=ax, edgecolor='black', linewidth=1)\n",
    "claim_gdf.plot(ax=ax, color='blue', markersize=2, alpha=0.6, label='Filtered Claims')\n",
    "\n",
    "plt.title(\"Claims in CONUS since 2005\")\n",
    "plt.xlabel(\"Longitude\")\n",
    "plt.ylabel(\"Latitude\")\n",
    "plt.grid(True)\n",
    "plt.legend()\n",
    "plt.tight_layout()\n",
    "plt.show()\n",
    "\n",
    "# --- Step 7: Save filtered data to CSV (without geometry) ---\n",
    "output_path = 'Data/Claim_CONUS_2005.csv'\n",
    "claim_gdf.drop(columns='geometry').to_csv(output_path, index=False)\n",
    "print(f\"Filtered data saved to {output_path}\")\n"
   ]
  },
  {
   "cell_type": "markdown",
   "id": "4c8e22a9-c23e-41b7-8265-8d8e968fecc5",
   "metadata": {},
   "source": [
    "**Local Storm Report (LSR) dataset for CONUS was downloaded via https://www.hydroshare.org/resource/6985905f08d24b2297788060373c42a4/**"
   ]
  },
  {
   "cell_type": "markdown",
   "id": "a5cead3c-a490-43fc-b295-c6c49286a150",
   "metadata": {},
   "source": [
    "### **LSR events are filtered only for flash flood**"
   ]
  },
  {
   "cell_type": "code",
   "execution_count": null,
   "id": "f3c489ba-6448-4651-898d-8e28f221ad9a",
   "metadata": {},
   "outputs": [],
   "source": [
    "import pandas as pd\n",
    "\n",
    "# Load CSV file\n",
    "file_path = 'Data/lsr_CONUS_2005_2024.csv'\n",
    "lsr_df = pd.read_csv(file_path, on_bad_lines='skip')\n",
    "\n",
    "# Filter the DataFrame for rows where the 'TYPETEXT' column contains 'FLASH FLOOD' or 'HEAVY RAIN'\n",
    "lsr_pluvial_df = lsr_df[lsr_df['TYPETEXT'].str.contains('FLASH FLOOD', case=False, na=False)]\n",
    "\n",
    "# Save the filtered DataFrame to a new CSV file\n",
    "output_path = 'Data/lsr_pluvial_CONUS_2005.csv'\n",
    "lsr_pluvial_df.to_csv(output_path, index=False)\n",
    "\n",
    "print(f\"Filtered data saved to {output_path}\")\n"
   ]
  }
 ],
 "metadata": {
  "kernelspec": {
   "display_name": "Python 3 (ipykernel)",
   "language": "python",
   "name": "python3"
  },
  "language_info": {
   "codemirror_mode": {
    "name": "ipython",
    "version": 3
   },
   "file_extension": ".py",
   "mimetype": "text/x-python",
   "name": "python",
   "nbconvert_exporter": "python",
   "pygments_lexer": "ipython3",
   "version": "3.10.16"
  }
 },
 "nbformat": 4,
 "nbformat_minor": 5
}
